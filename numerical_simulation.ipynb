{
 "cells": [
  {
   "cell_type": "code",
   "execution_count": 11,
   "metadata": {
    "pycharm": {
     "name": "#%%\n"
    }
   },
   "outputs": [],
   "source": [
    "from scipy.integrate import solve_ivp\n",
    "import matplotlib.pyplot as plt\n",
    "import numpy as np"
   ]
  },
  {
   "cell_type": "code",
   "execution_count": 12,
   "metadata": {
    "pycharm": {
     "name": "#%%\n"
    }
   },
   "outputs": [],
   "source": [
    "b = .047\n",
    "m = 1\n",
    "g = 9.80665\n",
    "\n",
    "V_0 = 45\n",
    "theta = np.pi/4\n",
    "\n",
    "V0_X = V_0 * np.cos(theta)\n",
    "V0_Y = V_0 * np.sin(theta)\n",
    "\n",
    "X_0 = .0\n",
    "Y_0 = 1e-3"
   ]
  },
  {
   "cell_type": "code",
   "execution_count": 13,
   "metadata": {
    "pycharm": {
     "name": "#%%\n"
    }
   },
   "outputs": [],
   "source": [
    "simulation_time = 10\n",
    "simulation_step = 1e-3\n",
    "\n",
    "iterations = int(simulation_time / simulation_step)\n",
    "\n",
    "time = np.linspace(.0, simulation_time, iterations)\n",
    "time_span = [min(time), max(time)]"
   ]
  },
  {
   "cell_type": "code",
   "execution_count": 14,
   "metadata": {
    "pycharm": {
     "name": "#%%\n"
    }
   },
   "outputs": [],
   "source": [
    "def dsdt(_, s):\n",
    "    _, vx, _y, vy = s\n",
    "\n",
    "    if _y < 0:\n",
    "        vy = 0\n",
    "\n",
    "    return [\n",
    "        vx,\n",
    "        (-b*vx**2) / m,\n",
    "        vy,\n",
    "        ((-b*vy**2) / m) - g\n",
    "    ]\n",
    "\n",
    "sol = solve_ivp(\n",
    "    dsdt,\n",
    "    time_span,\n",
    "    [X_0, V0_X, Y_0, V0_Y],\n",
    "    t_eval=time\n",
    ")"
   ]
  },
  {
   "cell_type": "code",
   "execution_count": 15,
   "metadata": {
    "pycharm": {
     "name": "#%%\n"
    }
   },
   "outputs": [
    {
     "data": {
      "text/plain": [
       "Text(0, 0.5, 'y(t)')"
      ]
     },
     "execution_count": 15,
     "metadata": {},
     "output_type": "execute_result"
    },
    {
     "data": {
      "image/png": "[encoded data removed]",
      "text/plain": [
       "<Figure size 432x288 with 1 Axes>"
      ]
     },
     "metadata": {
      "needs_background": "light"
     },
     "output_type": "display_data"
    }
   ],
   "source": [
    "x = sol.y[0]\n",
    "y = sol.y[2]\n",
    "\n",
    "# y index where y = 0\n",
    "y_zero_index = np.argmin(np.abs(y))\n",
    "\n",
    "plt.plot(x[:y_zero_index], y[:y_zero_index])\n",
    "plt.legend(['y(x)'])\n",
    "plt.xlabel('x(t)')\n",
    "plt.ylabel('y(t)')"
   ]
  }
 ],
 "metadata": {
  "kernelspec": {
   "display_name": "Python 3.10.4 ('venv': venv)",
   "language": "python",
   "name": "python3"
  },
  "language_info": {
   "codemirror_mode": {
    "name": "ipython",
    "version": 3
   },
   "file_extension": ".py",
   "mimetype": "text/x-python",
   "name": "python",
   "nbconvert_exporter": "python",
   "pygments_lexer": "ipython3",
   "version": "3.10.4"
  },
  "orig_nbformat": 4,
  "vscode": {
   "interpreter": {
    "hash": "87442f535d3a4027bbd364ab544563a128f473ff1ec68eb0ad14e83bdf4f41a4"
   }
  }
 },
 "nbformat": 4,
 "nbformat_minor": 2
}