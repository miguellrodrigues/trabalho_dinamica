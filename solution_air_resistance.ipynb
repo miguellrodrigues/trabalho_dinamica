{
 "cells": [
  {
   "cell_type": "code",
   "execution_count": 2,
   "metadata": {
    "pycharm": {
     "name": "#%%\n"
    }
   },
   "outputs": [],
   "source": [
    "import sympy as sp\n",
    "from IPython.display import display"
   ]
  },
  {
   "cell_type": "code",
   "execution_count": 3,
   "metadata": {
    "pycharm": {
     "name": "#%%\n"
    }
   },
   "outputs": [
    {
     "data": {
      "text/latex": [
       "$\\displaystyle \\frac{d}{d t} v{\\left(t \\right)} = \\frac{- b v{\\left(t \\right)} - g m}{m}$"
      ],
      "text/plain": [
       "Eq(Derivative(v(t), t), (-b*v(t) - g*m)/m)"
      ]
     },
     "execution_count": 3,
     "metadata": {},
     "output_type": "execute_result"
    }
   ],
   "source": [
    "m, b, g, t = sp.symbols('m b g t', real=True, positive=True)\n",
    "\n",
    "v = sp.Function('v')(t)\n",
    "dvdt = sp.diff(v, t)\n",
    "\n",
    "weight_force = -m * g\n",
    "air_force = -b * v\n",
    "\n",
    "dv_equation = sp.Eq(\n",
    "    dvdt,\n",
    "    (weight_force + air_force) / m\n",
    ")\n",
    "\n",
    "dv_equation"
   ]
  },
  {
   "cell_type": "code",
   "execution_count": 4,
   "metadata": {
    "pycharm": {
     "name": "#%%\n"
    }
   },
   "outputs": [
    {
     "data": {
      "text/latex": [
       "$\\displaystyle - \\frac{b \\operatorname{V_{x}}{\\left(t \\right)}}{m}$"
      ],
      "text/plain": [
       "-b*V_x(t)/m"
      ]
     },
     "metadata": {},
     "output_type": "display_data"
    },
    {
     "data": {
      "text/latex": [
       "$\\displaystyle \\int\\limits_{0}^{t} \\left(- \\frac{m \\frac{d}{d t} \\operatorname{V_{x}}{\\left(t \\right)}}{b \\operatorname{V_{x}}{\\left(t \\right)}}\\right)\\, dt = \\int\\limits_{0}^{t} 1\\, dt$"
      ],
      "text/plain": [
       "Eq(Integral(-m*Derivative(V_x(t), t)/(b*V_x(t)), (t, 0, t)), Integral(1, (t, 0, t)))"
      ]
     },
     "metadata": {},
     "output_type": "display_data"
    },
    {
     "data": {
      "text/latex": [
       "$\\displaystyle \\operatorname{V_{x}}{\\left(0 \\right)} e^{- \\frac{b t}{m}}$"
      ],
      "text/plain": [
       "V_x(0)*exp(-b*t/m)"
      ]
     },
     "metadata": {},
     "output_type": "display_data"
    },
    {
     "data": {
      "text/latex": [
       "$\\displaystyle \\frac{m \\operatorname{V_{x}}{\\left(0 \\right)}}{b} - \\frac{m \\operatorname{V_{x}}{\\left(0 \\right)} e^{- \\frac{b t}{m}}}{b}$"
      ],
      "text/plain": [
       "m*V_x(0)/b - m*V_x(0)*exp(-b*t/m)/b"
      ]
     },
     "metadata": {},
     "output_type": "display_data"
    }
   ],
   "source": [
    "# Solving for Vx\n",
    "Vx = sp.Function('V_x')(t)\n",
    "\n",
    "dvx_equation = dv_equation.subs({\n",
    "    v: Vx,\n",
    "    g: .0\n",
    "})\n",
    "\n",
    "dvxdt = sp.diff(Vx, t)\n",
    "\n",
    "# solving for dvdt\n",
    "s_dvxdt = sp.solve(dvx_equation, dvxdt)[0]\n",
    "\n",
    "display(s_dvxdt)\n",
    "\n",
    "u = s_dvxdt\n",
    "\n",
    "dvx_dt = sp.Eq(\n",
    "    sp.Integral(dvxdt / u, (t, 0, t)),\n",
    "    sp.Integral(s_dvxdt / u, (t, 0, t)),\n",
    ")\n",
    "\n",
    "display(dvx_dt)\n",
    "\n",
    "sol_vx = sp.solve(\n",
    "    dvx_dt.doit(),\n",
    "    Vx\n",
    ")[0]\n",
    "\n",
    "display(sol_vx)\n",
    "\n",
    "x = sp.integrate(sol_vx, (t, 0, t))\n",
    "\n",
    "display(x)"
   ]
  },
  {
   "cell_type": "code",
   "execution_count": 5,
   "metadata": {
    "pycharm": {
     "name": "#%%\n"
    }
   },
   "outputs": [
    {
     "data": {
      "text/latex": [
       "$\\displaystyle - \\frac{b \\operatorname{V_{y}}{\\left(t \\right)}}{m} - g$"
      ],
      "text/plain": [
       "-b*V_y(t)/m - g"
      ]
     },
     "metadata": {},
     "output_type": "display_data"
    },
    {
     "data": {
      "text/latex": [
       "$\\displaystyle \\int\\limits_{0}^{t} \\frac{\\frac{d}{d t} \\operatorname{V_{y}}{\\left(t \\right)}}{- \\frac{b \\operatorname{V_{y}}{\\left(t \\right)}}{m} - g}\\, dt = \\int\\limits_{0}^{t} 1\\, dt$"
      ],
      "text/plain": [
       "Eq(Integral(Derivative(V_y(t), t)/(-b*V_y(t)/m - g), (t, 0, t)), Integral(1, (t, 0, t)))"
      ]
     },
     "metadata": {},
     "output_type": "display_data"
    },
    {
     "data": {
      "text/latex": [
       "$\\displaystyle \\frac{\\left(b \\operatorname{V_{y}}{\\left(0 \\right)} - g m e^{\\frac{b t}{m}} + g m\\right) e^{- \\frac{b t}{m}}}{b}$"
      ],
      "text/plain": [
       "(b*V_y(0) - g*m*exp(b*t/m) + g*m)*exp(-b*t/m)/b"
      ]
     },
     "metadata": {},
     "output_type": "display_data"
    },
    {
     "data": {
      "text/latex": [
       "$\\displaystyle - \\frac{g m t}{b} - \\frac{- b m \\operatorname{V_{y}}{\\left(0 \\right)} - g m^{2}}{b^{2}} + \\frac{\\left(- b m \\operatorname{V_{y}}{\\left(0 \\right)} - g m^{2}\\right) e^{- \\frac{b t}{m}}}{b^{2}}$"
      ],
      "text/plain": [
       "-g*m*t/b - (-b*m*V_y(0) - g*m**2)/b**2 + (-b*m*V_y(0) - g*m**2)*exp(-b*t/m)/b**2"
      ]
     },
     "metadata": {},
     "output_type": "display_data"
    }
   ],
   "source": [
    "# Solving for Vy\n",
    "\n",
    "Vy = sp.Function('V_y')(t)\n",
    "\n",
    "dvy_equation = dv_equation.subs({\n",
    "    v: Vy\n",
    "})\n",
    "\n",
    "dvydt = sp.diff(Vy, t)\n",
    "\n",
    "# solving for dvdt\n",
    "s_dvydt = sp.solve(dvy_equation, dvydt)[0]\n",
    "\n",
    "display(s_dvydt)\n",
    "\n",
    "u = s_dvydt\n",
    "\n",
    "dvy_dt = sp.Eq(\n",
    "    sp.Integral(dvydt / u, (t, 0, t)),\n",
    "    sp.Integral(s_dvydt / u, (t, 0, t)),\n",
    ")\n",
    "\n",
    "display(dvy_dt)\n",
    "\n",
    "sol_vy = sp.solve(\n",
    "    dvy_dt.doit(),\n",
    "    Vy\n",
    ")[0]\n",
    "\n",
    "display(sol_vy)\n",
    "\n",
    "y = sp.integrate(sol_vy, (t, 0, t))\n",
    "\n",
    "display(y)"
   ]
  },
  {
   "cell_type": "code",
   "execution_count": 14,
   "metadata": {},
   "outputs": [],
   "source": [
    "# finding the time instant where the height is max\n",
    "# y is max when vy is 0\n",
    "\n",
    "EQ1 = sp.Eq(sol_vy, .0)\n",
    "t_max_y = sp.solve(EQ1, t)[0]\n",
    "\n",
    "# finding the time where y is 0\n",
    "EQ2 = sp.Eq(y, .0)\n",
    "t_y_zero = sp.solve(EQ2, t)[0]\n",
    "\n",
    "# # # # # # # # # \n",
    "\n",
    "# finding max y expression\n",
    "max_y = y.subs({\n",
    "    t: t_max_y\n",
    "})\n",
    "\n",
    "# finding max x expression\n",
    "# x is max when y is 0\n",
    "max_x = x.subs({\n",
    "    t: t_y_zero\n",
    "})\n",
    "\n",
    "max_y_func = sp.lambdify(\n",
    "    [m, g, b, Vy.subs({t: 0})],\n",
    "    max_y\n",
    ")\n",
    "\n",
    "max_x_func = sp.lambdify(\n",
    "    [m, g, b, Vx.subs({t: 0}), Vy.subs({t: 0})],\n",
    "    max_x\n",
    ")"
   ]
  },
  {
   "cell_type": "code",
   "execution_count": 17,
   "metadata": {},
   "outputs": [
    {
     "name": "stdout",
     "output_type": "stream",
     "text": [
      "\\frac{m \\left(b \\operatorname{V_{y}}{\\left(0 \\right)} - g m \\log{\\left(\\frac{b \\operatorname{V_{y}}{\\left(0 \\right)} + g m}{g m} \\right)}\\right)}{b^{2}}\n"
     ]
    }
   ],
   "source": [
    "sp.print_latex(sp.simplify(max_y))"
   ]
  }
 ],
 "metadata": {
  "kernelspec": {
   "display_name": "Python 3.10.4 ('venv': venv)",
   "language": "python",
   "name": "python3"
  },
  "language_info": {
   "codemirror_mode": {
    "name": "ipython",
    "version": 3
   },
   "file_extension": ".py",
   "mimetype": "text/x-python",
   "name": "python",
   "nbconvert_exporter": "python",
   "pygments_lexer": "ipython3",
   "version": "3.10.4"
  },
  "orig_nbformat": 4,
  "vscode": {
   "interpreter": {
    "hash": "87442f535d3a4027bbd364ab544563a128f473ff1ec68eb0ad14e83bdf4f41a4"
   }
  }
 },
 "nbformat": 4,
 "nbformat_minor": 2
}
