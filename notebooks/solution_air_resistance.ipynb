{
 "cells": [
  {
   "cell_type": "code",
   "execution_count": 21,
   "metadata": {
    "pycharm": {
     "name": "#%%\n"
    }
   },
   "outputs": [],
   "source": [
    "import sympy as sp\n",
    "from IPython.display import display"
   ]
  },
  {
   "cell_type": "code",
   "execution_count": 22,
   "metadata": {
    "pycharm": {
     "name": "#%%\n"
    }
   },
   "outputs": [
    {
     "data": {
      "text/latex": [
       "$\\displaystyle \\frac{d}{d t} v{\\left(t \\right)} = - \\frac{A cd \\rho v{\\left(t \\right)}}{2 m} - g$"
      ],
      "text/plain": [
       "Eq(Derivative(v(t), t), -A*cd*rho*v(t)/(2*m) - g)"
      ]
     },
     "execution_count": 22,
     "metadata": {},
     "output_type": "execute_result"
    }
   ],
   "source": [
    "m, g, t = sp.symbols('m g t', real=True, positive=True)\n",
    "\n",
    "v = sp.Function('v')(t)\n",
    "dvdt = sp.diff(v, t)\n",
    "\n",
    "cd, rho, A = sp.symbols('cd rho A', real=True, positive=True)\n",
    "\n",
    "weight_force = -m * g\n",
    "air_force = -sp.Rational(1, 2) * rho * cd * A * v\n",
    "\n",
    "dv_equation = sp.Eq(\n",
    "    dvdt,\n",
    "    (weight_force + air_force) / m\n",
    "\n",
    ").simplify()\n",
    "\n",
    "dv_equation"
   ]
  },
  {
   "cell_type": "code",
   "execution_count": 23,
   "metadata": {
    "pycharm": {
     "name": "#%%\n"
    }
   },
   "outputs": [
    {
     "data": {
      "text/latex": [
       "$\\displaystyle - \\frac{A cd \\rho \\operatorname{V_{x}}{\\left(t \\right)}}{2 m}$"
      ],
      "text/plain": [
       "-A*cd*rho*V_x(t)/(2*m)"
      ]
     },
     "metadata": {},
     "output_type": "display_data"
    },
    {
     "data": {
      "text/latex": [
       "$\\displaystyle \\int\\limits_{0}^{t} \\left(- \\frac{2 m \\frac{d}{d t} \\operatorname{V_{x}}{\\left(t \\right)}}{A cd \\rho \\operatorname{V_{x}}{\\left(t \\right)}}\\right)\\, dt = \\int\\limits_{0}^{t} 1\\, dt$"
      ],
      "text/plain": [
       "Eq(Integral(-2*m*Derivative(V_x(t), t)/(A*cd*rho*V_x(t)), (t, 0, t)), Integral(1, (t, 0, t)))"
      ]
     },
     "metadata": {},
     "output_type": "display_data"
    },
    {
     "data": {
      "text/latex": [
       "$\\displaystyle \\operatorname{V_{x}}{\\left(0 \\right)} e^{- \\frac{A cd \\rho t}{2 m}}$"
      ],
      "text/plain": [
       "V_x(0)*exp(-A*cd*rho*t/(2*m))"
      ]
     },
     "metadata": {},
     "output_type": "display_data"
    },
    {
     "data": {
      "text/latex": [
       "$\\displaystyle \\frac{2 m \\operatorname{V_{x}}{\\left(0 \\right)}}{A cd \\rho} - \\frac{2 m \\operatorname{V_{x}}{\\left(0 \\right)} e^{- \\frac{A cd \\rho t}{2 m}}}{A cd \\rho}$"
      ],
      "text/plain": [
       "2*m*V_x(0)/(A*cd*rho) - 2*m*V_x(0)*exp(-A*cd*rho*t/(2*m))/(A*cd*rho)"
      ]
     },
     "metadata": {},
     "output_type": "display_data"
    }
   ],
   "source": [
    "# Solving for Vx\n",
    "Vx = sp.Function('V_x')(t)\n",
    "\n",
    "dvx_equation = dv_equation.subs({\n",
    "    v: Vx,\n",
    "    g: .0\n",
    "})\n",
    "\n",
    "dvxdt = sp.diff(Vx, t)\n",
    "\n",
    "# solving for dvdt\n",
    "s_dvxdt = sp.solve(dvx_equation, dvxdt)[0]\n",
    "\n",
    "display(s_dvxdt)\n",
    "\n",
    "u = s_dvxdt\n",
    "\n",
    "dvx_dt = sp.Eq(\n",
    "    sp.Integral(dvxdt / u, (t, 0, t)),\n",
    "    sp.Integral(s_dvxdt / u, (t, 0, t)),\n",
    ")\n",
    "\n",
    "display(dvx_dt)\n",
    "\n",
    "sol_vx = sp.solve(\n",
    "    dvx_dt.doit(),\n",
    "    Vx\n",
    ")[0]\n",
    "\n",
    "display(sol_vx)\n",
    "\n",
    "x = sp.integrate(sol_vx, (t, 0, t))\n",
    "\n",
    "display(x.simplify())"
   ]
  },
  {
   "cell_type": "code",
   "execution_count": 24,
   "metadata": {
    "pycharm": {
     "name": "#%%\n"
    }
   },
   "outputs": [
    {
     "data": {
      "text/latex": [
       "$\\displaystyle - \\frac{A cd \\rho \\operatorname{V_{y}}{\\left(t \\right)}}{2 m} - g$"
      ],
      "text/plain": [
       "-A*cd*rho*V_y(t)/(2*m) - g"
      ]
     },
     "metadata": {},
     "output_type": "display_data"
    },
    {
     "data": {
      "text/latex": [
       "$\\displaystyle \\int\\limits_{0}^{t} \\frac{\\frac{d}{d t} \\operatorname{V_{y}}{\\left(t \\right)}}{- \\frac{A cd \\rho \\operatorname{V_{y}}{\\left(t \\right)}}{2 m} - g}\\, dt = \\int\\limits_{0}^{t} 1\\, dt$"
      ],
      "text/plain": [
       "Eq(Integral(Derivative(V_y(t), t)/(-A*cd*rho*V_y(t)/(2*m) - g), (t, 0, t)), Integral(1, (t, 0, t)))"
      ]
     },
     "metadata": {},
     "output_type": "display_data"
    },
    {
     "data": {
      "text/latex": [
       "$\\displaystyle - \\frac{2 m \\left(g + e^{- \\frac{A cd \\rho t - 2 m \\log{\\left(- \\frac{A cd \\rho \\operatorname{V_{y}}{\\left(0 \\right)} + 2 g m}{2 m} \\right)}}{2 m}}\\right)}{A cd \\rho}$"
      ],
      "text/plain": [
       "-2*m*(g + exp(-(A*cd*rho*t - 2*m*log(-(A*cd*rho*V_y(0) + 2*g*m)/(2*m)))/(2*m)))/(A*cd*rho)"
      ]
     },
     "metadata": {},
     "output_type": "display_data"
    },
    {
     "data": {
      "text/latex": [
       "$\\displaystyle \\frac{2 m \\left(- A cd g \\rho t + A cd \\rho \\operatorname{V_{y}}{\\left(0 \\right)} + 2 g m + 2 m e^{\\frac{- A cd \\rho t + 2 m \\log{\\left(\\frac{- A cd \\rho \\operatorname{V_{y}}{\\left(0 \\right)} - 2 g m}{2 m} \\right)}}{2 m}}\\right)}{A^{2} cd^{2} \\rho^{2}}$"
      ],
      "text/plain": [
       "2*m*(-A*cd*g*rho*t + A*cd*rho*V_y(0) + 2*g*m + 2*m*exp((-A*cd*rho*t + 2*m*log((-A*cd*rho*V_y(0) - 2*g*m)/(2*m)))/(2*m)))/(A**2*cd**2*rho**2)"
      ]
     },
     "metadata": {},
     "output_type": "display_data"
    }
   ],
   "source": [
    "# Solving for Vy\n",
    "\n",
    "Vy = sp.Function('V_y')(t)\n",
    "\n",
    "dvy_equation = dv_equation.subs({\n",
    "    v: Vy\n",
    "})\n",
    "\n",
    "dvydt = sp.diff(Vy, t)\n",
    "\n",
    "# solving for dvdt\n",
    "s_dvydt = sp.solve(dvy_equation, dvydt)[0]\n",
    "\n",
    "display(s_dvydt)\n",
    "\n",
    "u = s_dvydt\n",
    "\n",
    "dvy_dt = sp.Eq(\n",
    "    sp.Integral(dvydt / u, (t, 0, t)),\n",
    "    sp.Integral(s_dvydt / u, (t, 0, t)),\n",
    ")\n",
    "\n",
    "display(dvy_dt)\n",
    "\n",
    "sol_vy = sp.solve(\n",
    "    dvy_dt.doit(),\n",
    "    Vy\n",
    ")[0]\n",
    "\n",
    "display(sol_vy)\n",
    "\n",
    "y = sp.integrate(sol_vy, (t, 0, t))\n",
    "\n",
    "display(y.simplify())"
   ]
  },
  {
   "cell_type": "code",
   "execution_count": 25,
   "metadata": {},
   "outputs": [],
   "source": [
    "# finding the time instant where the height is max\n",
    "# y is max when vy is 0\n",
    "\n",
    "EQ1 = sp.Eq(sol_vy, .0)\n",
    "t_max_y = sp.solve(EQ1, t)[0]\n",
    "\n",
    "# finding the time where y is 0\n",
    "EQ2 = sp.Eq(y, .0)\n",
    "t_y_zero = sp.solve(EQ2, t)[0]\n",
    "\n",
    "# # # # # # # # # \n",
    "\n",
    "# finding max y expression\n",
    "max_y = y.subs({\n",
    "    t: t_max_y\n",
    "})\n",
    "\n",
    "# finding max x expression\n",
    "# x is max when y is 0\n",
    "max_x = x.subs({\n",
    "    t: t_y_zero\n",
    "})\n",
    "\n",
    "# max_y_func = sp.lambdify(\n",
    "#     [m, g, b, Vy.subs({t: 0})],\n",
    "#     max_y\n",
    "# )\n",
    "\n",
    "# max_x_func = sp.lambdify(\n",
    "#     [m, g, b, Vx.subs({t: 0}), Vy.subs({t: 0})],\n",
    "#     max_x\n",
    "# )"
   ]
  },
  {
   "cell_type": "code",
   "execution_count": 26,
   "metadata": {},
   "outputs": [
    {
     "data": {
      "text/latex": [
       "$\\displaystyle \\frac{2 m \\left(A V_{0 Y} cd \\rho - 2 g m \\log{\\left(A V_{0 Y} cd \\rho + 2 g m \\right)} + \\log{\\left(2^{2 g m} g^{2 g m} m^{2 g m} \\right)}\\right)}{A^{2} cd^{2} \\rho^{2}}$"
      ],
      "text/plain": [
       "2*m*(A*V0_Y*cd*rho - 2*g*m*log(A*V0_Y*cd*rho + 2*g*m) + log(2**(2*g*m)*g**(2*g*m)*m**(2*g*m)))/(A**2*cd**2*rho**2)"
      ]
     },
     "execution_count": 26,
     "metadata": {},
     "output_type": "execute_result"
    }
   ],
   "source": [
    "max_y.subs({\n",
    "    Vy.subs({t: 0}): sp.Symbol('V0_Y'),\n",
    "    Vx.subs({t: 0}): sp.Symbol('V0_X'),\n",
    "}).simplify()"
   ]
  }
 ],
 "metadata": {
  "kernelspec": {
   "display_name": "Python 3.10.4 ('venv': venv)",
   "language": "python",
   "name": "python3"
  },
  "language_info": {
   "codemirror_mode": {
    "name": "ipython",
    "version": 3
   },
   "file_extension": ".py",
   "mimetype": "text/x-python",
   "name": "python",
   "nbconvert_exporter": "python",
   "pygments_lexer": "ipython3",
   "version": "3.10.4"
  },
  "orig_nbformat": 4,
  "vscode": {
   "interpreter": {
    "hash": "87442f535d3a4027bbd364ab544563a128f473ff1ec68eb0ad14e83bdf4f41a4"
   }
  }
 },
 "nbformat": 4,
 "nbformat_minor": 2
}
