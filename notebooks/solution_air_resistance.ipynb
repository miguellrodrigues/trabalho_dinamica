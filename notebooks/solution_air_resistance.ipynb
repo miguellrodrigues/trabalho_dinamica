{
 "cells": [
  {
   "cell_type": "code",
   "execution_count": 43,
   "metadata": {
    "pycharm": {
     "name": "#%%\n"
    }
   },
   "outputs": [],
   "source": [
    "import sympy as sp\n",
    "from IPython.display import display"
   ]
  },
  {
   "cell_type": "code",
   "execution_count": 44,
   "metadata": {
    "pycharm": {
     "name": "#%%\n"
    }
   },
   "outputs": [
    {
     "data": {
      "text/latex": [
       "$\\displaystyle \\frac{d}{d t} v{\\left(t \\right)} = - \\frac{b v^{2}{\\left(t \\right)}}{m} - g$"
      ],
      "text/plain": [
       "Eq(Derivative(v(t), t), -b*v(t)**2/m - g)"
      ]
     },
     "execution_count": 44,
     "metadata": {},
     "output_type": "execute_result"
    }
   ],
   "source": [
    "m, g, t = sp.symbols('m g t', real=True, positive=True)\n",
    "\n",
    "v = sp.Function('v')(t)\n",
    "dvdt = sp.diff(v, t)\n",
    "\n",
    "cd, rho, A = sp.symbols('cd rho A', real=True, positive=True)\n",
    "b = sp.Symbol('b', real=True, positive=True)\n",
    "\n",
    "weight_force = -m * g\n",
    "air_force = -b * v**2\n",
    "\n",
    "dv_equation = sp.Eq(\n",
    "    dvdt,\n",
    "    (weight_force + air_force) / m\n",
    "\n",
    ").simplify()\n",
    "\n",
    "dv_equation"
   ]
  },
  {
   "cell_type": "code",
   "execution_count": 45,
   "metadata": {},
   "outputs": [
    {
     "data": {
      "text/latex": [
       "$\\displaystyle - \\frac{i \\sqrt{g} \\sqrt{m}}{\\sqrt{b}}$"
      ],
      "text/plain": [
       "-I*sqrt(g)*sqrt(m)/sqrt(b)"
      ]
     },
     "execution_count": 45,
     "metadata": {},
     "output_type": "execute_result"
    }
   ],
   "source": [
    "Vt = sp.solve(\n",
    "    sp.Eq(weight_force + air_force, .0),\n",
    "    v\n",
    ")[0]\n",
    "\n",
    "Vt"
   ]
  },
  {
   "cell_type": "code",
   "execution_count": 46,
   "metadata": {
    "pycharm": {
     "name": "#%%\n"
    }
   },
   "outputs": [
    {
     "data": {
      "text/latex": [
       "$\\displaystyle - \\frac{b \\operatorname{V_{x}}^{2}{\\left(t \\right)}}{m}$"
      ],
      "text/plain": [
       "-b*V_x(t)**2/m"
      ]
     },
     "metadata": {},
     "output_type": "display_data"
    },
    {
     "data": {
      "text/latex": [
       "$\\displaystyle \\int\\limits_{0}^{t} \\left(- \\frac{m \\frac{d}{d t} \\operatorname{V_{x}}{\\left(t \\right)}}{b \\operatorname{V_{x}}^{2}{\\left(t \\right)}}\\right)\\, dt = \\int\\limits_{0}^{t} 1\\, dt$"
      ],
      "text/plain": [
       "Eq(Integral(-m*Derivative(V_x(t), t)/(b*V_x(t)**2), (t, 0, t)), Integral(1, (t, 0, t)))"
      ]
     },
     "metadata": {},
     "output_type": "display_data"
    },
    {
     "data": {
      "text/latex": [
       "$\\displaystyle \\frac{m \\operatorname{V_{x}}{\\left(0 \\right)}}{b t \\operatorname{V_{x}}{\\left(0 \\right)} + m}$"
      ],
      "text/plain": [
       "m*V_x(0)/(b*t*V_x(0) + m)"
      ]
     },
     "metadata": {},
     "output_type": "display_data"
    },
    {
     "data": {
      "text/latex": [
       "$\\displaystyle \\frac{m \\log{\\left(\\frac{b t \\operatorname{V_{x}}{\\left(0 \\right)} + m}{m} \\right)}}{b}$"
      ],
      "text/plain": [
       "m*log((b*t*V_x(0) + m)/m)/b"
      ]
     },
     "metadata": {},
     "output_type": "display_data"
    }
   ],
   "source": [
    "# Solving for Vx\n",
    "Vx = sp.Function('V_x')(t)\n",
    "\n",
    "dvx_equation = dv_equation.subs({\n",
    "    v: Vx,\n",
    "    g: .0\n",
    "})\n",
    "\n",
    "dvxdt = sp.diff(Vx, t)\n",
    "\n",
    "# solving for dvdt\n",
    "s_dvxdt = sp.solve(dvx_equation, dvxdt)[0]\n",
    "\n",
    "display(s_dvxdt)\n",
    "\n",
    "u = s_dvxdt\n",
    "\n",
    "dvx_dt = sp.Eq(\n",
    "    sp.Integral(dvxdt / u, (t, 0, t)),\n",
    "    sp.Integral(s_dvxdt / u, (t, 0, t)),\n",
    ")\n",
    "\n",
    "display(dvx_dt)\n",
    "\n",
    "sol_vx = sp.solve(\n",
    "    dvx_dt.doit(),\n",
    "    Vx\n",
    ")[0]\n",
    "\n",
    "display(sol_vx)\n",
    "\n",
    "x_t = sp.integrate(sol_vx, (t, 0, t))\n",
    "\n",
    "display(x_t.simplify())"
   ]
  },
  {
   "cell_type": "code",
   "execution_count": 47,
   "metadata": {
    "pycharm": {
     "name": "#%%\n"
    }
   },
   "outputs": [
    {
     "data": {
      "text/latex": [
       "$\\displaystyle - \\frac{b \\operatorname{V_{y}}^{2}{\\left(t \\right)}}{m} - g$"
      ],
      "text/plain": [
       "-b*V_y(t)**2/m - g"
      ]
     },
     "metadata": {},
     "output_type": "display_data"
    },
    {
     "data": {
      "text/latex": [
       "$\\displaystyle - \\frac{b}{g m}$"
      ],
      "text/plain": [
       "-b/(g*m)"
      ]
     },
     "metadata": {},
     "output_type": "display_data"
    },
    {
     "data": {
      "text/latex": [
       "$\\displaystyle \\frac{i \\sqrt{g} \\sqrt{m} \\left(1 - \\sqrt{4 \\log{\\left(- e^{\\frac{i \\sqrt{b} \\sqrt{g} t}{\\sqrt{m}}} \\right)}^{2} + 1}\\right)}{2 \\sqrt{b} \\log{\\left(- e^{\\frac{i \\sqrt{b} \\sqrt{g} t}{\\sqrt{m}}} \\right)}}$"
      ],
      "text/plain": [
       "I*sqrt(g)*sqrt(m)*(1 - sqrt(4*log(-exp(I*sqrt(b)*sqrt(g)*t/sqrt(m)))**2 + 1))/(2*sqrt(b)*log(-exp(I*sqrt(b)*sqrt(g)*t/sqrt(m))))"
      ]
     },
     "metadata": {},
     "output_type": "display_data"
    }
   ],
   "source": [
    "# Solving for Vy\n",
    "\n",
    "Vy = sp.Function('V_y')(t)\n",
    "\n",
    "dvy_equation = dv_equation.subs({\n",
    "    v: Vy\n",
    "})\n",
    "\n",
    "dvydt = sp.diff(Vy, t)\n",
    "\n",
    "# solving for dvdt\n",
    "s_dvydt = sp.solve(dvy_equation, dvydt)[0]\n",
    "\n",
    "display(s_dvydt)\n",
    "\n",
    "# finding terminal velocity\n",
    "# factoring g from s_dvydt\n",
    "# Vt = sp.Symbol('Vt', real=True, positive=True)\n",
    "terminal_velocity = Vt\n",
    "\n",
    "# rewrinting dvy_equation factoring g\n",
    "dvy_equation = sp.Eq(\n",
    "    dvydt,\n",
    "    g * (1 - (b/(m*g)) * Vy**2)\n",
    ")\n",
    "\n",
    "# the square of the inverse of the terminal velocity is the\n",
    "# equal to (b/(m*g))\n",
    "\n",
    "display(1 / terminal_velocity**2)\n",
    "\n",
    "# subs (b/(m*g)) = 1 / terminal_velocity**2 in dvy_equation\n",
    "dvy_equation = dvy_equation.subs({\n",
    "    (b * Vy**2)/(m*g): (Vy / Vt)**2\n",
    "})\n",
    "\n",
    "u = dvy_equation.args[1]\n",
    "\n",
    "integrand = dvydt / u\n",
    "# call (Vy / Vt) as x, and dvy as dx*Vt\n",
    "x = sp.Symbol('x')\n",
    "\n",
    "integrand = integrand.subs({\n",
    "    (Vy/Vt): x,\n",
    "    dvydt: Vt\n",
    "})\n",
    "\n",
    "# when V is V0, x is V0/Vt\n",
    "# when V is V, x is V/Vt\n",
    "# Vy.subs({t: 0})/Vt\n",
    "\n",
    "sol = sp.Integral(integrand, (x, 0, Vy/Vt)).doit()\n",
    "\n",
    "E2 = sp.Eq(\n",
    "    (sol / Vt) * g,\n",
    "    (t / Vt) * g\n",
    ")\n",
    "\n",
    "E2 = E2.simplify()\n",
    "\n",
    "E3 = sp.Eq(\n",
    "    E2.args[0] * 2,\n",
    "    E2.args[1] * 2\n",
    ")\n",
    "\n",
    "E4 = sp.Eq(\n",
    "    sp.exp(E3.args[0]),\n",
    "    sp.exp(E3.args[1])\n",
    ")\n",
    "\n",
    "sol_vy = sp.solve(E4, Vy)[0]\n",
    "\n",
    "display(sol_vy)\n",
    "\n",
    "y_t = sp.integrate(sol_vy, t)"
   ]
  }
 ],
 "metadata": {
  "kernelspec": {
   "display_name": "Python 3.10.4 ('venv': venv)",
   "language": "python",
   "name": "python3"
  },
  "language_info": {
   "codemirror_mode": {
    "name": "ipython",
    "version": 3
   },
   "file_extension": ".py",
   "mimetype": "text/x-python",
   "name": "python",
   "nbconvert_exporter": "python",
   "pygments_lexer": "ipython3",
   "version": "3.10.4"
  },
  "orig_nbformat": 4,
  "vscode": {
   "interpreter": {
    "hash": "87442f535d3a4027bbd364ab544563a128f473ff1ec68eb0ad14e83bdf4f41a4"
   }
  }
 },
 "nbformat": 4,
 "nbformat_minor": 2
}
