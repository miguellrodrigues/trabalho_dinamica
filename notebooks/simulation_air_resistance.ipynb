{
 "cells": [
  {
   "cell_type": "code",
   "execution_count": 24,
   "metadata": {},
   "outputs": [],
   "source": [
    "from scipy.integrate import solve_ivp\n",
    "from scipy.special import lambertw\n",
    "import matplotlib.pyplot as plt\n",
    "import numpy as np\n",
    "import pandas as pd\n",
    "\n",
    "plt.style.use(\n",
    "    [\n",
    "        'nature',\n",
    "        'science',\n",
    "        'grid',\n",
    "        'notebook',\n",
    "    ]\n",
    ")"
   ]
  },
  {
   "cell_type": "code",
   "execution_count": 25,
   "metadata": {},
   "outputs": [],
   "source": [
    "r = .15  # raio do bico (m)\n",
    "h = .1  # altura do bico (m)\n",
    "\n",
    "# Arrasto\n",
    "A = np.pi * r**2\n",
    "cd = .327  # coeficiente de arrasto\n",
    "rho = 1.1839\n",
    "\n",
    "b = .5 * rho * cd * A\n",
    "\n",
    "m = .875  # massa do foguete\n",
    "g = 9.80665  # aceleracao gravitacional\n",
    "\n",
    "V_0 = 200 # modulo da velocidade inicial (m/s)\n",
    "theta = np.pi/4  # angulo de lancamento (rad)\n",
    "\n",
    "V0_X = V_0 * np.cos(theta)  # componente horizontal da velocidade inicial\n",
    "V0_Y = V_0 * np.sin(theta)  # componente vertical da velociade inicial\n",
    "\n",
    "X_0 = .0  # posicao horizontal inicial\n",
    "Y_0 = 1e-3 # posicao vertical inicial"
   ]
  },
  {
   "cell_type": "code",
   "execution_count": 26,
   "metadata": {},
   "outputs": [
    {
     "data": {
      "text/plain": [
       "(0.07068583470577035, 0.327, 1.1839, 0.013682490912284408)"
      ]
     },
     "execution_count": 26,
     "metadata": {},
     "output_type": "execute_result"
    }
   ],
   "source": [
    "A, cd, rho, b"
   ]
  },
  {
   "cell_type": "code",
   "execution_count": 27,
   "metadata": {},
   "outputs": [],
   "source": [
    "simulation_time = 120  # duracao da simulacao\n",
    "simulation_step = 1e-3  # tempo de simulacao\n",
    "\n",
    "iterations = int(simulation_time / simulation_step)\n",
    "\n",
    "time = np.linspace(.0, simulation_time, iterations)\n",
    "time_span = [time[0], time[-1]]"
   ]
  },
  {
   "cell_type": "code",
   "execution_count": 28,
   "metadata": {},
   "outputs": [],
   "source": [
    "def dSdt(_, S):\n",
    "    _, vx, y, vy = S\n",
    "\n",
    "    if y < 0:\n",
    "        vy = 0\n",
    "\n",
    "    return [\n",
    "        vx,\n",
    "        ((-b * vx**2) / m),\n",
    "        vy,\n",
    "        ((-b * vy**2) / m) - g\n",
    "    ]\n",
    "\n",
    "sol = solve_ivp(\n",
    "    dSdt,\n",
    "    time_span,\n",
    "    [X_0, V0_X, Y_0, V0_Y],\n",
    "    t_eval=time\n",
    ")\n",
    "\n",
    "x = sol.y[0]  # solucao de x\n",
    "x_dot = sol.y[1] # solucao de x_dot\n",
    "\n",
    "y = sol.y[2]  # solucao de y\n",
    "y_dot = sol.y[3] # solucao de y_dot"
   ]
  },
  {
   "cell_type": "code",
   "execution_count": 29,
   "metadata": {},
   "outputs": [],
   "source": [
    "# y index where y = 0\n",
    "y_zero_index = np.argmin(y)  # indice onde y = 0\n",
    "\n",
    "# tempo necessario para alcancar o zero de y\n",
    "time_to_reach_zero = time[y_zero_index]\n",
    "\n",
    "# alcance horizontal\n",
    "max_x_index = np.argmax(x[:y_zero_index])\n",
    "horizontal_range = x[max_x_index]\n",
    "\n",
    "# alcance vertical\n",
    "max_y_index = np.argmax(y[:y_zero_index])\n",
    "vertical_range = y[max_y_index]\n",
    "\n",
    "Vt = np.sqrt(m*g)/np.sqrt(b)\n",
    "\n",
    "# alcances teoricos\n",
    "theorical_horizontal_range = m*np.log((V0_X*Vt*b*np.log( ((-V0_Y + Vt)/(V0_Y + Vt)) * 1j ) + g**2*m)/(g**2*m))/b\n",
    "theorical_vertical_range = Vt**2*(-np.log(Vt) - np.log(-np.sqrt(( (-V0_Y + Vt)/(V0_Y + Vt) ) * 1j)) + np.log( ((-V0_Y + Vt)/(V0_Y + Vt)) * 1j ) - np.log(1/(V0_Y + Vt)))/g**2"
   ]
  },
  {
   "cell_type": "code",
   "execution_count": 30,
   "metadata": {},
   "outputs": [
    {
     "data": {
      "text/plain": [
       "((11.84687473770458-54.38744247002772j),\n",
       " (11.185223812745548-25.608379360327774j))"
      ]
     },
     "execution_count": 30,
     "metadata": {},
     "output_type": "execute_result"
    }
   ],
   "source": [
    "theorical_horizontal_range, theorical_vertical_range"
   ]
  },
  {
   "cell_type": "code",
   "execution_count": 31,
   "metadata": {},
   "outputs": [
    {
     "data": {
      "text/plain": [
       "(180.52534049373, 111.80901910513447)"
      ]
     },
     "execution_count": 31,
     "metadata": {},
     "output_type": "execute_result"
    }
   ],
   "source": [
    "horizontal_range, vertical_range"
   ]
  },
  {
   "cell_type": "code",
   "execution_count": 32,
   "metadata": {},
   "outputs": [],
   "source": [
    "simulation_data = {\n",
    "    'time': time,\n",
    "    'x': x,\n",
    "    'y': y\n",
    "}\n",
    "\n",
    "# save to xslx\n",
    "pd.DataFrame(simulation_data).to_excel(\n",
    "    '../data/air_resistance/simulation_data.xlsx',\n",
    "    index=False\n",
    ")\n",
    "\n",
    "with open('../data/air_resistance/simulation_info.txt', 'w') as file:\n",
    "    file.write('Simulacao de foguete com massa constante\\n')\n",
    "    file.write('\\n')\n",
    "    file.write('Massa: {}'.format(m))\n",
    "    file.write('\\n')\n",
    "    file.write('Coeficiente de resistencia aerodinamica: {}'.format(cd))\n",
    "    file.write('\\n')\n",
    "    file.write('Aceleracao gravitacional: {}'.format(g))\n",
    "    file.write('\\n')\n",
    "    file.write('\\nVelocidade inicial: {}'.format(V_0))\n",
    "    file.write('\\nAngulo de lancamento: {}'.format(np.rad2deg(theta)))\n",
    "    file.write('\\n')\n",
    "    file.write('Tempo de simulacao: {}'.format(simulation_time))\n",
    "    file.write('\\n')\n",
    "    file.write('Passo de simulacao: {}'.format(simulation_step))\n",
    "    file.write('\\n')\n",
    "    file.write('\\n')\n",
    "    file.write('Tempo necessario para alcancar o zero de y: {}'.format(time_to_reach_zero))\n",
    "    file.write('\\n')\n",
    "    file.write('\\n')\n",
    "    file.write('Alcance vertical (simulado | teorico): {} | {}'.format(vertical_range, theorical_vertical_range))\n",
    "    file.write('\\n')\n",
    "    file.write('Alcance horizontal (simulado | teorico): {} | {}'.format(horizontal_range, theorical_horizontal_range))\n",
    "    file.write('\\n')\n",
    "\n",
    "    file.close()"
   ]
  },
  {
   "cell_type": "code",
   "execution_count": 33,
   "metadata": {},
   "outputs": [],
   "source": [
    "time = time[:y_zero_index]\n",
    "\n",
    "x = x[:y_zero_index]\n",
    "x_dot = x_dot[:y_zero_index]\n",
    "\n",
    "y = y[:y_zero_index]\n",
    "y_dot = y_dot[:y_zero_index]"
   ]
  },
  {
   "cell_type": "code",
   "execution_count": 34,
   "metadata": {},
   "outputs": [],
   "source": [
    "fig1, axs = plt.subplots(1, 1, figsize=(10, 10))\n",
    "\n",
    "axs.plot(time, x, label='x(t)')\n",
    "\n",
    "ax2 = axs.twinx()\n",
    "ax2.plot(time, x_dot, color='red', label=r'$\\dot{x}(t)$')\n",
    "\n",
    "axs.set_xlabel('Tempo (s)')\n",
    "axs.set_ylabel('x(t) (m)')\n",
    "\n",
    "ax2.set_xlabel('Tempo (s)')\n",
    "ax2.set_ylabel(r'$\\dot{x}(t) \\frac{m}{s}$')\n",
    "\n",
    "plt.grid(False)\n",
    "\n",
    "plt.legend()\n",
    "\n",
    "plt.savefig('../images/air_resistance/sim_x_t.png', dpi=300)\n",
    "\n",
    "fig2, axs = plt.subplots(1, 1, figsize=(10, 10))\n",
    "\n",
    "axs.plot(time, y, label='y(t)')\n",
    "\n",
    "ax2 = axs.twinx()\n",
    "ax2.plot(time, y_dot, color='red', label=r'$\\dot{y}(t)$')\n",
    "\n",
    "axs.set_xlabel('Tempo (s)')\n",
    "axs.set_ylabel('y(t) (m)')\n",
    "\n",
    "ax2.set_xlabel('Tempo (s)')\n",
    "ax2.set_ylabel(r'$\\dot{y}(t) \\frac{m}{s}$')\n",
    "\n",
    "plt.grid(False)\n",
    "\n",
    "plt.legend()\n",
    "\n",
    "plt.savefig('../images/air_resistance/sim_y_t.png', dpi=300)\n",
    "\n",
    "fig3, axs = plt.subplots(1, 1, figsize=(10, 10))\n",
    "\n",
    "axs.plot(x, y, label='y(x(t))')\n",
    "axs.set_xlabel('x(t) (m)')\n",
    "axs.set_ylabel('y(t) (m)')\n",
    "\n",
    "plt.legend()\n",
    "\n",
    "plt.savefig('../images/air_resistance/sim_y_x.png', dpi=300)"
   ]
  }
 ],
 "metadata": {
  "kernelspec": {
   "display_name": "Python 3.10.4 ('venv': venv)",
   "language": "python",
   "name": "python3"
  },
  "language_info": {
   "codemirror_mode": {
    "name": "ipython",
    "version": 3
   },
   "file_extension": ".py",
   "mimetype": "text/x-python",
   "name": "python",
   "nbconvert_exporter": "python",
   "pygments_lexer": "ipython3",
   "version": "3.10.4"
  },
  "orig_nbformat": 4,
  "vscode": {
   "interpreter": {
    "hash": "87442f535d3a4027bbd364ab544563a128f473ff1ec68eb0ad14e83bdf4f41a4"
   }
  }
 },
 "nbformat": 4,
 "nbformat_minor": 2
}
